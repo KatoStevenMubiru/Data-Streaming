{
 "cells": [
  {
   "cell_type": "code",
   "execution_count": null,
   "metadata": {},
   "outputs": [],
   "source": [
    "Explore how Kafka Works\n",
    "\n",
    "In this section you reviewed Kafka's architecture and how it stores data. In this exercise, you will spend some time seeing how Kafka works.\n",
    "\n",
    "Topic Storage\n",
    "\n",
    "First, let's create a topic\n",
    "\n",
    "kafka-topics --create --topic kafka-arch --partitions 1 --replication-factor 1 --zookeeper localhost:2181\n",
    "\n",
    "Inspecting the Directory Structure\n",
    "\n",
    "Now that the topic is successfully created, let's see how Kafka stored it on disk.\n",
    "\n",
    "ls -alh /var/lib/kafka/data | grep kafka-arch\n",
    "\n",
    "What does the output look like?\n",
    "\n",
    "What kind of data is kept inside of the directory?\n",
    "\n",
    "ls -alh /var/lib/kafka/data/kafka-arch*\n",
    "\n",
    "If you try to open the file ending in .log is there anything in it?\n",
    "\n",
    "Produce Data\n",
    "\n",
    "Now that we have this topic, let's produce some data into it.\n",
    "\n",
    "kafka-console-producer --topic \"kafka-arch\" --broker-list localhost:9092\n",
    "\n",
    "Produce 5-10 messages.\n",
    "\n",
    "Once you're done, hit Ctrl+C to exit.\n",
    "\n",
    "Repeat the steps from Inspecting the Directory Structure and see how the results have changed.\n",
    "\n",
    "Topics and Partitions\n",
    "\n",
    "Now that you've seen what a topic with a single partition looks like, let's see what happens if we modify the number of partitions\n",
    "\n",
    "kafka-topics --alter --topic kafka-arch --partitions 3 --zookeeper localhost:2181\n",
    "\n",
    "Try repeating the steps from the previous section. How many folders do you see now?\n",
    "\n",
    "Try modifying the number of partitions a few more times to see how Kafka modifies the data on disk."
   ]
  }
 ],
 "metadata": {
  "language_info": {
   "name": "python"
  }
 },
 "nbformat": 4,
 "nbformat_minor": 2
}
